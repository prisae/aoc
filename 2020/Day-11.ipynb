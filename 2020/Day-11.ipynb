{
 "cells": [
  {
   "cell_type": "markdown",
   "metadata": {},
   "source": [
    "# Day 11\n",
    "\n",
    "Definitely brute-force and not nice... Particularly part two is slow as hell, but it works ;-)"
   ]
  },
  {
   "cell_type": "code",
   "execution_count": 1,
   "metadata": {},
   "outputs": [],
   "source": [
    "import numpy as np\n",
    "from aocd.models import Puzzle"
   ]
  },
  {
   "cell_type": "markdown",
   "metadata": {},
   "source": [
    "## Data"
   ]
  },
  {
   "cell_type": "code",
   "execution_count": 2,
   "metadata": {},
   "outputs": [],
   "source": [
    "puzzle = Puzzle(year=2020, day=11)\n",
    "data = puzzle.input_data"
   ]
  },
  {
   "cell_type": "markdown",
   "metadata": {},
   "source": [
    "## Part One"
   ]
  },
  {
   "cell_type": "code",
   "execution_count": 3,
   "metadata": {},
   "outputs": [],
   "source": [
    "# Very cumbersome way to convert it into an int-matrix\n",
    "dat = data.replace('L', '0').replace('.', '1').split()\n",
    "nrow = len(dat[0])\n",
    "dat = ''.join(d for d in dat)\n",
    "dat = -np.array([char for char in dat], dtype=int).reshape(-1, nrow)\n",
    "\n",
    "# Extend by a frame of floor\n",
    "edat = -np.ones((dat.shape[0]+2, dat.shape[1]+2), dtype=int)\n",
    "edat[1:-1, 1:-1] = dat\n",
    "\n",
    "#edat"
   ]
  },
  {
   "cell_type": "code",
   "execution_count": 4,
   "metadata": {},
   "outputs": [],
   "source": [
    "def count(inp):\n",
    "    test = sum(inp[inp>-1]) - inp[1,1]\n",
    "\n",
    "    if (inp[1, 1] == 0) and (test == 0):\n",
    "        return 1\n",
    "    elif (inp[1, 1] == 1) and (test > 3):\n",
    "        return -1\n",
    "    else:\n",
    "        return 0"
   ]
  },
  {
   "cell_type": "code",
   "execution_count": 5,
   "metadata": {},
   "outputs": [
    {
     "data": {
      "text/plain": [
       "(array([[-1, -1, -1, ..., -1, -1, -1],\n",
       "        [-1,  1,  0, ...,  0,  1, -1],\n",
       "        [-1,  0,  0, ...,  0,  0, -1],\n",
       "        ...,\n",
       "        [-1,  0,  0, ...,  0,  0, -1],\n",
       "        [-1,  1,  0, ...,  0,  1, -1],\n",
       "        [-1, -1, -1, ..., -1, -1, -1]]),\n",
       " 87,\n",
       " 2359)"
      ]
     },
     "execution_count": 5,
     "metadata": {},
     "output_type": "execute_result"
    }
   ],
   "source": [
    "change = np.ones(1)\n",
    "\n",
    "i = 0\n",
    "while change.sum() != 0:\n",
    "    change = np.zeros(edat.shape, dtype=int)\n",
    "    for x in range(1, edat.shape[0]-1):\n",
    "        for y in range(1, edat.shape[1]-1):\n",
    "            if edat[x, y] > -1:\n",
    "                change[x, y] = count(edat[x-1:x+2, y-1:y+2])\n",
    "\n",
    "    edat += change\n",
    "    i += 1\n",
    "\n",
    "occseats = np.sum(edat[1:-1, 1:-1][edat[1:-1, 1:-1] > 0])\n",
    "edat, i, occseats"
   ]
  },
  {
   "cell_type": "code",
   "execution_count": 6,
   "metadata": {},
   "outputs": [
    {
     "data": {
      "text/plain": [
       "2359"
      ]
     },
     "execution_count": 6,
     "metadata": {},
     "output_type": "execute_result"
    }
   ],
   "source": [
    "answer_a = occseats\n",
    "answer_a"
   ]
  },
  {
   "cell_type": "code",
   "execution_count": 7,
   "metadata": {},
   "outputs": [
    {
     "name": "stdout",
     "output_type": "stream",
     "text": [
      "\u001b[32mThat's the right answer!  You are one gold star closer to saving your vacation. [Continue to Part Two]\u001b[0m\n"
     ]
    }
   ],
   "source": [
    "puzzle.answer_a = answer_a"
   ]
  },
  {
   "cell_type": "markdown",
   "metadata": {},
   "source": [
    "## Part Two"
   ]
  },
  {
   "cell_type": "code",
   "execution_count": 4,
   "metadata": {
    "scrolled": true
   },
   "outputs": [
    {
     "data": {
      "text/plain": [
       "(array([[-1, -1, -1, ..., -1, -1, -1],\n",
       "        [-1,  1,  0, ...,  0,  1, -1],\n",
       "        [-1,  0,  0, ...,  0,  0, -1],\n",
       "        ...,\n",
       "        [-1,  0,  0, ...,  0,  0, -1],\n",
       "        [-1,  1,  0, ...,  0,  1, -1],\n",
       "        [-1, -1, -1, ..., -1, -1, -1]]),\n",
       " 87,\n",
       " 2131)"
      ]
     },
     "execution_count": 4,
     "metadata": {},
     "output_type": "execute_result"
    }
   ],
   "source": [
    "def first_in_line(line, loc):\n",
    "    # «np.r_»: Add an empty seat «0» on the left and on the right,\n",
    "    #          for the cases where there is no seat > -1 left.\n",
    "    left = np.r_[0, line[:loc][line[:loc] > -1]][-1]      \n",
    "    right = np.r_[line[loc+1:][line[loc+1:] > -1], 0][0]\n",
    "    return left, right\n",
    "\n",
    "def count_in_line(inp, x, y):\n",
    "    nx = inp.shape[0]-1-x\n",
    "    hor = first_in_line(inp[x, :], y)\n",
    "    ver = first_in_line(inp[:, y], x)\n",
    "    di1 = first_in_line(np.diagonal(inp, y-x), min(x, y))\n",
    "    di2 = first_in_line(np.diagonal(np.flipud(inp), y-nx), min(y, nx))\n",
    "    test = np.sum(np.r_[hor, ver, di1, di2])\n",
    "\n",
    "    if (inp[x, y] == 0) and (test == 0):\n",
    "        return 1\n",
    "    elif (inp[x, y] == 1) and (test > 4):\n",
    "        return -1\n",
    "    else:\n",
    "        return 0\n",
    "    \n",
    "change = np.ones(1)\n",
    "\n",
    "i = 0\n",
    "while change.sum() != 0:\n",
    "    change = np.zeros(edat.shape, dtype=int)\n",
    "    for x in range(1, edat.shape[0]-1):\n",
    "        for y in range(1, edat.shape[1]-1):\n",
    "            if edat[x, y] > -1:\n",
    "                change[x, y] = count_in_line(edat, x, y)\n",
    "\n",
    "    edat += change\n",
    "    i += 1\n",
    "\n",
    "occseats = np.sum(edat[1:-1, 1:-1][edat[1:-1, 1:-1] > 0])\n",
    "edat, i, occseats"
   ]
  },
  {
   "cell_type": "code",
   "execution_count": 5,
   "metadata": {},
   "outputs": [
    {
     "data": {
      "text/plain": [
       "2131"
      ]
     },
     "execution_count": 5,
     "metadata": {},
     "output_type": "execute_result"
    }
   ],
   "source": [
    "answer_b = occseats\n",
    "answer_b"
   ]
  },
  {
   "cell_type": "code",
   "execution_count": 6,
   "metadata": {},
   "outputs": [
    {
     "name": "stdout",
     "output_type": "stream",
     "text": [
      "\u001b[32mThat's the right answer!  You are one gold star closer to saving your vacation.You have completed Day 11! You can [Shareon\n",
      "  Twitter\n",
      "Mastodon] this victory or [Return to Your Advent Calendar].\u001b[0m\n"
     ]
    }
   ],
   "source": [
    "puzzle.answer_b = answer_b"
   ]
  },
  {
   "cell_type": "code",
   "execution_count": 7,
   "metadata": {},
   "outputs": [
    {
     "data": {
      "text/html": [
       "<table style='border: 3px solid #ddd;'>\n",
       "  <tr>\n",
       "     <td style='text-align: center; font-weight: bold; font-size: 1.2em; border: 2px solid #fff;' colspan='6'>Wed Dec 16 10:21:27 2020 CET</td>\n",
       "  </tr>\n",
       "  <tr>\n",
       "    <td style='text-align: right; background-color: #ccc; border: 2px solid #fff;'>OS</td>\n",
       "    <td style='text-align: left; border: 2px solid #fff;'>Linux</td>\n",
       "    <td style='text-align: right; background-color: #ccc; border: 2px solid #fff;'>CPU(s)</td>\n",
       "    <td style='text-align: left; border: 2px solid #fff;'>4</td>\n",
       "    <td style='text-align: right; background-color: #ccc; border: 2px solid #fff;'>Machine</td>\n",
       "    <td style='text-align: left; border: 2px solid #fff;'>x86_64</td>\n",
       "  </tr>\n",
       "  <tr>\n",
       "    <td style='text-align: right; background-color: #ccc; border: 2px solid #fff;'>Architecture</td>\n",
       "    <td style='text-align: left; border: 2px solid #fff;'>64bit</td>\n",
       "    <td style='text-align: right; background-color: #ccc; border: 2px solid #fff;'>RAM</td>\n",
       "    <td style='text-align: left; border: 2px solid #fff;'>7.7 GB</td>\n",
       "    <td style='text-align: right; background-color: #ccc; border: 2px solid #fff;'>Environment</td>\n",
       "    <td style='text-align: left; border: 2px solid #fff;'>Jupyter</td>\n",
       "  </tr>\n",
       "  <tr>\n",
       "     <td style='text-align: center; border: 2px solid #fff;' colspan='6'>Python 3.7.6 | packaged by conda-forge | (default, Jun  1 2020, 18:57:50) \n",
       "[GCC 7.5.0]</td>\n",
       "  </tr>\n",
       "  <tr>\n",
       "    <td style='text-align: right; background-color: #ccc; border: 2px solid #fff;'>aocd</td>\n",
       "    <td style='text-align: left; border: 2px solid #fff;'>0.9.4</td>\n",
       "    <td style='text-align: right; background-color: #ccc; border: 2px solid #fff;'>numpy</td>\n",
       "    <td style='text-align: left; border: 2px solid #fff;'>1.19.1</td>\n",
       "    <td style='text-align: right; background-color: #ccc; border: 2px solid #fff;'>scipy</td>\n",
       "    <td style='text-align: left; border: 2px solid #fff;'>1.5.2</td>\n",
       "  </tr>\n",
       "  <tr>\n",
       "    <td style='text-align: right; background-color: #ccc; border: 2px solid #fff;'>IPython</td>\n",
       "    <td style='text-align: left; border: 2px solid #fff;'>7.16.1</td>\n",
       "    <td style='text-align: right; background-color: #ccc; border: 2px solid #fff;'>matplotlib</td>\n",
       "    <td style='text-align: left; border: 2px solid #fff;'>3.3.3</td>\n",
       "    <td style='text-align: right; background-color: #ccc; border: 2px solid #fff;'>scooby</td>\n",
       "    <td style='text-align: left; border: 2px solid #fff;'>0.5.6</td>\n",
       "  </tr>\n",
       "</table>"
      ],
      "text/plain": [
       "\n",
       "--------------------------------------------------------------------------------\n",
       "  Date: Wed Dec 16 10:21:27 2020 CET\n",
       "\n",
       "                OS : Linux\n",
       "            CPU(s) : 4\n",
       "           Machine : x86_64\n",
       "      Architecture : 64bit\n",
       "               RAM : 7.7 GB\n",
       "       Environment : Jupyter\n",
       "\n",
       "  Python 3.7.6 | packaged by conda-forge | (default, Jun  1 2020, 18:57:50)\n",
       "  [GCC 7.5.0]\n",
       "\n",
       "              aocd : 0.9.4\n",
       "             numpy : 1.19.1\n",
       "             scipy : 1.5.2\n",
       "           IPython : 7.16.1\n",
       "        matplotlib : 3.3.3\n",
       "            scooby : 0.5.6\n",
       "--------------------------------------------------------------------------------"
      ]
     },
     "execution_count": 7,
     "metadata": {},
     "output_type": "execute_result"
    }
   ],
   "source": [
    "import scooby\n",
    "scooby.Report('aocd')"
   ]
  }
 ],
 "metadata": {
  "kernelspec": {
   "display_name": "Python 3",
   "language": "python",
   "name": "python3"
  },
  "language_info": {
   "codemirror_mode": {
    "name": "ipython",
    "version": 3
   },
   "file_extension": ".py",
   "mimetype": "text/x-python",
   "name": "python",
   "nbconvert_exporter": "python",
   "pygments_lexer": "ipython3",
   "version": "3.7.6"
  }
 },
 "nbformat": 4,
 "nbformat_minor": 2
}
