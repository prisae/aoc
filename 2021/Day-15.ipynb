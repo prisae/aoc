{
 "cells": [
  {
   "cell_type": "markdown",
   "metadata": {},
   "source": [
    "# Day 15"
   ]
  },
  {
   "cell_type": "code",
   "execution_count": 1,
   "metadata": {},
   "outputs": [],
   "source": [
    "import numpy as np\n",
    "import scipy.sparse as ss\n",
    "from aocd.models import Puzzle"
   ]
  },
  {
   "cell_type": "markdown",
   "metadata": {},
   "source": [
    "## Data"
   ]
  },
  {
   "cell_type": "code",
   "execution_count": 2,
   "metadata": {},
   "outputs": [],
   "source": [
    "puzzle = Puzzle(year=2021, day=15)\n",
    "data = puzzle.input_data.split()"
   ]
  },
  {
   "cell_type": "code",
   "execution_count": 3,
   "metadata": {},
   "outputs": [],
   "source": [
    "dat = np.array([list(d) for d in data], dtype=int)"
   ]
  },
  {
   "cell_type": "markdown",
   "metadata": {},
   "source": [
    "## Part One"
   ]
  },
  {
   "cell_type": "code",
   "execution_count": 4,
   "metadata": {},
   "outputs": [],
   "source": [
    "def csgraph(data):\n",
    "    nx, ny = data.shape\n",
    "\n",
    "    out = ss.lil_matrix((data.size, data.size), dtype=int)\n",
    "    i = 0\n",
    "    for x in range(nx):\n",
    "        for y in range(ny):\n",
    "            if x > 0:\n",
    "                out[i, i-ny] = data[x-1, y]\n",
    "            if x < nx-1:\n",
    "                out[i, i+ny] = data[x+1, y]\n",
    "            if y > 0:\n",
    "                out[i, i-1] = data[x, y-1]\n",
    "            if y < ny-1:\n",
    "                out[i, i+1] = data[x, y+1]\n",
    "            i += 1    \n",
    "\n",
    "    return out"
   ]
  },
  {
   "cell_type": "code",
   "execution_count": 5,
   "metadata": {},
   "outputs": [],
   "source": [
    "def path(data):\n",
    "    # https://stackoverflow.com/a/53078901\n",
    "    D, Pr = ss.csgraph.shortest_path(csgraph(data), indices=0, directed=True, return_predecessors=True)\n",
    "\n",
    "    def get_path(Pr, j):\n",
    "        path = [j]\n",
    "        k = j\n",
    "        while Pr[k] != -9999:\n",
    "            path.append(Pr[k])\n",
    "            k = Pr[k]\n",
    "        return path[::-1]\n",
    "    \n",
    "    return get_path(Pr, data.size-1)"
   ]
  },
  {
   "cell_type": "code",
   "execution_count": 6,
   "metadata": {},
   "outputs": [
    {
     "data": {
      "text/plain": [
       "769"
      ]
     },
     "execution_count": 6,
     "metadata": {},
     "output_type": "execute_result"
    }
   ],
   "source": [
    "answer_a = dat.ravel()[path(dat)].sum()-dat[0][0]\n",
    "answer_a"
   ]
  },
  {
   "cell_type": "code",
   "execution_count": 7,
   "metadata": {},
   "outputs": [
    {
     "name": "stdout",
     "output_type": "stream",
     "text": [
      "\u001b[32mThat's the right answer!  You are one gold star closer to finding the sleigh keys. [Continue to Part Two]\u001b[0m\n"
     ]
    }
   ],
   "source": [
    "puzzle.answer_a = answer_a"
   ]
  },
  {
   "cell_type": "markdown",
   "metadata": {},
   "source": [
    "## Part Two"
   ]
  },
  {
   "cell_type": "code",
   "execution_count": 8,
   "metadata": {},
   "outputs": [],
   "source": [
    "def incr(inp, n):\n",
    "    out = inp.copy()\n",
    "    for _ in range(n):\n",
    "        out = out%9 + 1\n",
    "    return out\n",
    "    \n",
    "ndat = np.hstack([incr(dat, n) for n in range(5)])    \n",
    "ndat = np.vstack([incr(ndat, n) for n in range(5)])"
   ]
  },
  {
   "cell_type": "code",
   "execution_count": 9,
   "metadata": {},
   "outputs": [
    {
     "data": {
      "text/plain": [
       "2963"
      ]
     },
     "execution_count": 9,
     "metadata": {},
     "output_type": "execute_result"
    }
   ],
   "source": [
    "answer_b = ndat.ravel()[path(ndat)].sum()-ndat[0][0]\n",
    "answer_b"
   ]
  },
  {
   "cell_type": "code",
   "execution_count": 10,
   "metadata": {},
   "outputs": [
    {
     "name": "stdout",
     "output_type": "stream",
     "text": [
      "\u001b[32mThat's the right answer!  You are one gold star closer to finding the sleigh keys.You have completed Day 15! You can [Shareon\n",
      "  Twitter\n",
      "Mastodon] this victory or [Return to Your Advent Calendar].\u001b[0m\n"
     ]
    }
   ],
   "source": [
    "puzzle.answer_b = answer_b"
   ]
  },
  {
   "cell_type": "code",
   "execution_count": 11,
   "metadata": {},
   "outputs": [
    {
     "data": {
      "text/html": [
       "<table style='border: 3px solid #ddd;'>\n",
       "  <tr>\n",
       "     <td style='text-align: center; font-weight: bold; font-size: 1.2em; border: 2px solid #fff;' colspan='6'>Mon Dec 27 02:28:34 2021 CET</td>\n",
       "  </tr>\n",
       "  <tr>\n",
       "    <td style='text-align: right; background-color: #ccc; border: 2px solid #fff;'>OS</td>\n",
       "    <td style='text-align: left; border: 2px solid #fff;'>Linux</td>\n",
       "    <td style='text-align: right; background-color: #ccc; border: 2px solid #fff;'>CPU(s)</td>\n",
       "    <td style='text-align: left; border: 2px solid #fff;'>4</td>\n",
       "    <td style='text-align: right; background-color: #ccc; border: 2px solid #fff;'>Machine</td>\n",
       "    <td style='text-align: left; border: 2px solid #fff;'>x86_64</td>\n",
       "  </tr>\n",
       "  <tr>\n",
       "    <td style='text-align: right; background-color: #ccc; border: 2px solid #fff;'>Architecture</td>\n",
       "    <td style='text-align: left; border: 2px solid #fff;'>64bit</td>\n",
       "    <td style='text-align: right; background-color: #ccc; border: 2px solid #fff;'>RAM</td>\n",
       "    <td style='text-align: left; border: 2px solid #fff;'>15.5 GiB</td>\n",
       "    <td style='text-align: right; background-color: #ccc; border: 2px solid #fff;'>Environment</td>\n",
       "    <td style='text-align: left; border: 2px solid #fff;'>Jupyter</td>\n",
       "  </tr>\n",
       "  <tr>\n",
       "     <td style='text-align: center; border: 2px solid #fff;' colspan='6'>Python 3.8.8 | packaged by conda-forge | (default, Feb 20 2021, 16:22:27) \n",
       "[GCC 9.3.0]</td>\n",
       "  </tr>\n",
       "  <tr>\n",
       "    <td style='text-align: right; background-color: #ccc; border: 2px solid #fff;'>aocd</td>\n",
       "    <td style='text-align: left; border: 2px solid #fff;'>1.1.1</td>\n",
       "    <td style='text-align: right; background-color: #ccc; border: 2px solid #fff;'>numpy</td>\n",
       "    <td style='text-align: left; border: 2px solid #fff;'>1.20.3</td>\n",
       "    <td style='text-align: right; background-color: #ccc; border: 2px solid #fff;'>scipy</td>\n",
       "    <td style='text-align: left; border: 2px solid #fff;'>1.7.1</td>\n",
       "  </tr>\n",
       "  <tr>\n",
       "    <td style='text-align: right; background-color: #ccc; border: 2px solid #fff;'>IPython</td>\n",
       "    <td style='text-align: left; border: 2px solid #fff;'>7.23.1</td>\n",
       "    <td style='text-align: right; background-color: #ccc; border: 2px solid #fff;'>matplotlib</td>\n",
       "    <td style='text-align: left; border: 2px solid #fff;'>3.5.0</td>\n",
       "    <td style='text-align: right; background-color: #ccc; border: 2px solid #fff;'>scooby</td>\n",
       "    <td style='text-align: left; border: 2px solid #fff;'>0.5.7</td>\n",
       "  </tr>\n",
       "  <tr>\n",
       "     <td style='text-align: center; background-color: #ddd;border: 2px solid #fff;' colspan='6'>Intel(R) oneAPI Math Kernel Library Version 2021.3-Product Build 20210617 for Intel(R) 64 architecture applications</td>\n",
       "  </tr>\n",
       "</table>"
      ],
      "text/plain": [
       "\n",
       "--------------------------------------------------------------------------------\n",
       "  Date: Mon Dec 27 02:28:34 2021 CET\n",
       "\n",
       "                OS : Linux\n",
       "            CPU(s) : 4\n",
       "           Machine : x86_64\n",
       "      Architecture : 64bit\n",
       "               RAM : 15.5 GiB\n",
       "       Environment : Jupyter\n",
       "\n",
       "  Python 3.8.8 | packaged by conda-forge | (default, Feb 20 2021, 16:22:27)\n",
       "  [GCC 9.3.0]\n",
       "\n",
       "              aocd : 1.1.1\n",
       "             numpy : 1.20.3\n",
       "             scipy : 1.7.1\n",
       "           IPython : 7.23.1\n",
       "        matplotlib : 3.5.0\n",
       "            scooby : 0.5.7\n",
       "\n",
       "  Intel(R) oneAPI Math Kernel Library Version 2021.3-Product Build 20210617\n",
       "  for Intel(R) 64 architecture applications\n",
       "--------------------------------------------------------------------------------"
      ]
     },
     "execution_count": 11,
     "metadata": {},
     "output_type": "execute_result"
    }
   ],
   "source": [
    "import scooby\n",
    "scooby.Report('aocd')"
   ]
  }
 ],
 "metadata": {
  "kernelspec": {
   "display_name": "Python 3",
   "language": "python",
   "name": "python3"
  },
  "language_info": {
   "codemirror_mode": {
    "name": "ipython",
    "version": 3
   },
   "file_extension": ".py",
   "mimetype": "text/x-python",
   "name": "python",
   "nbconvert_exporter": "python",
   "pygments_lexer": "ipython3",
   "version": "3.8.8"
  }
 },
 "nbformat": 4,
 "nbformat_minor": 2
}
