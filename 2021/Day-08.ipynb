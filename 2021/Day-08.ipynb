{
 "cells": [
  {
   "cell_type": "markdown",
   "metadata": {},
   "source": [
    "# Day 08"
   ]
  },
  {
   "cell_type": "code",
   "execution_count": 1,
   "metadata": {},
   "outputs": [],
   "source": [
    "import numpy as np\n",
    "from aocd.models import Puzzle"
   ]
  },
  {
   "cell_type": "markdown",
   "metadata": {},
   "source": [
    "## Data"
   ]
  },
  {
   "cell_type": "code",
   "execution_count": 2,
   "metadata": {},
   "outputs": [],
   "source": [
    "puzzle = Puzzle(year=2021, day=8)\n",
    "data = puzzle.input_data.split('\\n')"
   ]
  },
  {
   "cell_type": "markdown",
   "metadata": {},
   "source": [
    "## Part One"
   ]
  },
  {
   "cell_type": "code",
   "execution_count": 3,
   "metadata": {},
   "outputs": [],
   "source": [
    "output = []\n",
    "for d in data:\n",
    "    output.extend([len(o) for o in d.split('|')[1].split()])"
   ]
  },
  {
   "cell_type": "code",
   "execution_count": 4,
   "metadata": {},
   "outputs": [
    {
     "data": {
      "text/plain": [
       "274"
      ]
     },
     "execution_count": 4,
     "metadata": {},
     "output_type": "execute_result"
    }
   ],
   "source": [
    "answer_a = output.count(2) + output.count(3) + output.count(4) + output.count(7)\n",
    "answer_a"
   ]
  },
  {
   "cell_type": "code",
   "execution_count": 5,
   "metadata": {},
   "outputs": [
    {
     "name": "stdout",
     "output_type": "stream",
     "text": [
      "\u001b[32mThat's the right answer!  You are one gold star closer to finding the sleigh keys. [Continue to Part Two]\u001b[0m\n"
     ]
    }
   ],
   "source": [
    "puzzle.answer_a = answer_a"
   ]
  },
  {
   "cell_type": "markdown",
   "metadata": {},
   "source": [
    "## Part Two"
   ]
  },
  {
   "cell_type": "code",
   "execution_count": 6,
   "metadata": {},
   "outputs": [],
   "source": [
    "def contains(key, name):\n",
    "    return all([x in name for x in [char for char in key]])\n",
    "\n",
    "map1 = {2: 1, 3: 7, 4: 4, 7: 8}\n",
    "def get_out_number(number):\n",
    "\n",
    "    # Get input to deciffer\n",
    "    inp = number.split('|')[0].split()\n",
    "    \n",
    "    key = {}\n",
    "    \n",
    "    for ir in inp:\n",
    "        r = ''.join(sorted(ir))\n",
    "        l = len(r)\n",
    "        if l in [2, 3, 4, 7]:\n",
    "            key[map1[l]] = r\n",
    "\n",
    "    for ir in inp:\n",
    "        r = ''.join(sorted(ir))\n",
    "        if len(r) == 6:\n",
    "            if contains(key[4], r):\n",
    "                key[9] = r\n",
    "            elif contains(key[1], r):\n",
    "                key[0] = r\n",
    "            else:\n",
    "                key[6] = r\n",
    "                \n",
    "    for ir in inp:\n",
    "        r = ''.join(sorted(ir))\n",
    "        if len(r) == 5:\n",
    "            if contains(key[1], r):\n",
    "                key[3] = r\n",
    "            elif contains(r, key[6]):\n",
    "                key[5] = r\n",
    "            else:\n",
    "                key[2] = r       \n",
    "        \n",
    "    # Get output\n",
    "    out = number.split('|')[1].split()\n",
    "\n",
    "    # invert dict\n",
    "    k = {v: k for k, v in key.items()}\n",
    "    \n",
    "    sol = ''\n",
    "    for ir in out:\n",
    "        r = ''.join(sorted(ir))\n",
    "        sol += str(k[r])\n",
    "    \n",
    "    return int(sol)\n",
    "    \n",
    "count = 0\n",
    "for number in data:\n",
    "    count += get_out_number(number)"
   ]
  },
  {
   "cell_type": "code",
   "execution_count": 7,
   "metadata": {},
   "outputs": [
    {
     "data": {
      "text/plain": [
       "1012089"
      ]
     },
     "execution_count": 7,
     "metadata": {},
     "output_type": "execute_result"
    }
   ],
   "source": [
    "answer_b = count\n",
    "answer_b"
   ]
  },
  {
   "cell_type": "code",
   "execution_count": 8,
   "metadata": {},
   "outputs": [
    {
     "name": "stdout",
     "output_type": "stream",
     "text": [
      "\u001b[32mThat's the right answer!  You are one gold star closer to finding the sleigh keys.You have completed Day 8! You can [Shareon\n",
      "  Twitter\n",
      "Mastodon] this victory or [Return to Your Advent Calendar].\u001b[0m\n"
     ]
    }
   ],
   "source": [
    "puzzle.answer_b = answer_b"
   ]
  },
  {
   "cell_type": "code",
   "execution_count": 9,
   "metadata": {},
   "outputs": [
    {
     "data": {
      "text/html": [
       "<table style='border: 3px solid #ddd;'>\n",
       "  <tr>\n",
       "     <td style='text-align: center; font-weight: bold; font-size: 1.2em; border: 2px solid #fff;' colspan='6'>Wed Dec 08 16:39:09 2021 CET</td>\n",
       "  </tr>\n",
       "  <tr>\n",
       "    <td style='text-align: right; background-color: #ccc; border: 2px solid #fff;'>OS</td>\n",
       "    <td style='text-align: left; border: 2px solid #fff;'>Linux</td>\n",
       "    <td style='text-align: right; background-color: #ccc; border: 2px solid #fff;'>CPU(s)</td>\n",
       "    <td style='text-align: left; border: 2px solid #fff;'>4</td>\n",
       "    <td style='text-align: right; background-color: #ccc; border: 2px solid #fff;'>Machine</td>\n",
       "    <td style='text-align: left; border: 2px solid #fff;'>x86_64</td>\n",
       "  </tr>\n",
       "  <tr>\n",
       "    <td style='text-align: right; background-color: #ccc; border: 2px solid #fff;'>Architecture</td>\n",
       "    <td style='text-align: left; border: 2px solid #fff;'>64bit</td>\n",
       "    <td style='text-align: right; background-color: #ccc; border: 2px solid #fff;'>RAM</td>\n",
       "    <td style='text-align: left; border: 2px solid #fff;'>15.5 GiB</td>\n",
       "    <td style='text-align: right; background-color: #ccc; border: 2px solid #fff;'>Environment</td>\n",
       "    <td style='text-align: left; border: 2px solid #fff;'>Jupyter</td>\n",
       "  </tr>\n",
       "  <tr>\n",
       "     <td style='text-align: center; border: 2px solid #fff;' colspan='6'>Python 3.8.8 | packaged by conda-forge | (default, Feb 20 2021, 16:22:27) \n",
       "[GCC 9.3.0]</td>\n",
       "  </tr>\n",
       "  <tr>\n",
       "    <td style='text-align: right; background-color: #ccc; border: 2px solid #fff;'>aocd</td>\n",
       "    <td style='text-align: left; border: 2px solid #fff;'>1.1.1</td>\n",
       "    <td style='text-align: right; background-color: #ccc; border: 2px solid #fff;'>numpy</td>\n",
       "    <td style='text-align: left; border: 2px solid #fff;'>1.20.3</td>\n",
       "    <td style='text-align: right; background-color: #ccc; border: 2px solid #fff;'>scipy</td>\n",
       "    <td style='text-align: left; border: 2px solid #fff;'>1.7.1</td>\n",
       "  </tr>\n",
       "  <tr>\n",
       "    <td style='text-align: right; background-color: #ccc; border: 2px solid #fff;'>IPython</td>\n",
       "    <td style='text-align: left; border: 2px solid #fff;'>7.23.1</td>\n",
       "    <td style='text-align: right; background-color: #ccc; border: 2px solid #fff;'>matplotlib</td>\n",
       "    <td style='text-align: left; border: 2px solid #fff;'>3.5.0</td>\n",
       "    <td style='text-align: right; background-color: #ccc; border: 2px solid #fff;'>scooby</td>\n",
       "    <td style='text-align: left; border: 2px solid #fff;'>0.5.7</td>\n",
       "  </tr>\n",
       "  <tr>\n",
       "     <td style='text-align: center; background-color: #ddd;border: 2px solid #fff;' colspan='6'>Intel(R) oneAPI Math Kernel Library Version 2021.3-Product Build 20210617 for Intel(R) 64 architecture applications</td>\n",
       "  </tr>\n",
       "</table>"
      ],
      "text/plain": [
       "\n",
       "--------------------------------------------------------------------------------\n",
       "  Date: Wed Dec 08 16:39:09 2021 CET\n",
       "\n",
       "                OS : Linux\n",
       "            CPU(s) : 4\n",
       "           Machine : x86_64\n",
       "      Architecture : 64bit\n",
       "               RAM : 15.5 GiB\n",
       "       Environment : Jupyter\n",
       "\n",
       "  Python 3.8.8 | packaged by conda-forge | (default, Feb 20 2021, 16:22:27)\n",
       "  [GCC 9.3.0]\n",
       "\n",
       "              aocd : 1.1.1\n",
       "             numpy : 1.20.3\n",
       "             scipy : 1.7.1\n",
       "           IPython : 7.23.1\n",
       "        matplotlib : 3.5.0\n",
       "            scooby : 0.5.7\n",
       "\n",
       "  Intel(R) oneAPI Math Kernel Library Version 2021.3-Product Build 20210617\n",
       "  for Intel(R) 64 architecture applications\n",
       "--------------------------------------------------------------------------------"
      ]
     },
     "execution_count": 9,
     "metadata": {},
     "output_type": "execute_result"
    }
   ],
   "source": [
    "import scooby\n",
    "scooby.Report('aocd')"
   ]
  }
 ],
 "metadata": {
  "kernelspec": {
   "display_name": "Python 3",
   "language": "python",
   "name": "python3"
  },
  "language_info": {
   "codemirror_mode": {
    "name": "ipython",
    "version": 3
   },
   "file_extension": ".py",
   "mimetype": "text/x-python",
   "name": "python",
   "nbconvert_exporter": "python",
   "pygments_lexer": "ipython3",
   "version": "3.8.8"
  }
 },
 "nbformat": 4,
 "nbformat_minor": 2
}
