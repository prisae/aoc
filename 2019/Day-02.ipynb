{
 "cells": [
  {
   "cell_type": "markdown",
   "metadata": {},
   "source": [
    "# Day 02"
   ]
  },
  {
   "cell_type": "code",
   "execution_count": 1,
   "metadata": {},
   "outputs": [],
   "source": [
    "import numpy as np\n",
    "from aocd.models import Puzzle"
   ]
  },
  {
   "cell_type": "markdown",
   "metadata": {},
   "source": [
    "## Data"
   ]
  },
  {
   "cell_type": "code",
   "execution_count": 2,
   "metadata": {},
   "outputs": [],
   "source": [
    "puzzle = Puzzle(year=2019, day=2)\n",
    "data = np.array(puzzle.input_data.split(','), dtype=int)"
   ]
  },
  {
   "cell_type": "markdown",
   "metadata": {},
   "source": [
    "## Solution function"
   ]
  },
  {
   "cell_type": "code",
   "execution_count": 3,
   "metadata": {},
   "outputs": [],
   "source": [
    "def intcode(inp, i=0):\n",
    "    \n",
    "    if inp[i] == 99:\n",
    "        return inp\n",
    "    elif inp[i] in [1, 2]:\n",
    "        op = [np.add, np.multiply][inp[i]-1]\n",
    "        inp[inp[i+3]] = op(inp[inp[i+1]], inp[inp[i+2]])\n",
    "    else:\n",
    "        raise ValueError('Error in intcode')\n",
    "\n",
    "    return intcode(inp, i+4)"
   ]
  },
  {
   "cell_type": "markdown",
   "metadata": {},
   "source": [
    "## Tests"
   ]
  },
  {
   "cell_type": "code",
   "execution_count": 4,
   "metadata": {},
   "outputs": [
    {
     "name": "stdout",
     "output_type": "stream",
     "text": [
      "1 :: True\n",
      "2 :: True\n",
      "3 :: True\n",
      "4 :: True\n",
      "5 :: True\n"
     ]
    }
   ],
   "source": [
    "testdata = {\n",
    "    '1': np.array([1, 9, 10, 3, 2, 3, 11, 0, 99, 30, 40, 50], dtype=int),\n",
    "    '2': [1, 0, 0, 0, 99],\n",
    "    '3': [2, 3, 0, 3, 99],\n",
    "    '4': [2, 4, 4, 5, 99, 0],\n",
    "    '5': [1, 1, 1, 4, 99, 5, 6, 0, 99],\n",
    "}\n",
    "\n",
    "testsolution = {\n",
    "    '1': np.array([3500, 9, 10, 70, 2, 3, 11, 0, 99, 30, 40, 50], dtype=int),\n",
    "    '2': [2, 0, 0, 0, 99],\n",
    "    '3': [2, 3, 0, 6, 99],\n",
    "    '4': [2, 4, 4, 5, 99, 9801],\n",
    "    '5': [30, 1, 1, 4, 2, 5, 6, 0, 99],\n",
    "}\n",
    "\n",
    "for key, value in testdata.items():\n",
    "    print(f\"{key} :: {np.allclose(testsolution[key], intcode(value))}\")"
   ]
  },
  {
   "cell_type": "markdown",
   "metadata": {},
   "source": [
    "## Part One"
   ]
  },
  {
   "cell_type": "code",
   "execution_count": 5,
   "metadata": {},
   "outputs": [
    {
     "data": {
      "text/plain": [
       "3101844"
      ]
     },
     "execution_count": 5,
     "metadata": {},
     "output_type": "execute_result"
    }
   ],
   "source": [
    "idata = data.copy()\n",
    "idata[1] = 12\n",
    "idata[2] = 2\n",
    "answer_a = intcode(idata)[0]\n",
    "answer_a"
   ]
  },
  {
   "cell_type": "code",
   "execution_count": 6,
   "metadata": {},
   "outputs": [
    {
     "name": "stdout",
     "output_type": "stream",
     "text": [
      "\u001b[32mThat's the right answer!  You are one gold star closer to rescuing Santa. [Continue to Part Two]\u001b[0m\n"
     ]
    }
   ],
   "source": [
    "puzzle.answer_a = answer_a"
   ]
  },
  {
   "cell_type": "markdown",
   "metadata": {},
   "source": [
    "## Part Two"
   ]
  },
  {
   "cell_type": "code",
   "execution_count": 9,
   "metadata": {},
   "outputs": [
    {
     "name": "stdout",
     "output_type": "stream",
     "text": [
      "Noun: 84; Verb: 78; Output: 19690720\n"
     ]
    },
    {
     "data": {
      "text/plain": [
       "8478"
      ]
     },
     "execution_count": 9,
     "metadata": {},
     "output_type": "execute_result"
    }
   ],
   "source": [
    "def inv_intcode(data):\n",
    "    for noun in np.arange(100, dtype=int):\n",
    "        for verb in np.arange(100, dtype=int):\n",
    "            idata = data.copy()\n",
    "\n",
    "            idata[1] = noun\n",
    "            idata[2] = verb\n",
    "            out = intcode(idata)[0]\n",
    "        \n",
    "            if out == 19690720:\n",
    "                print(f\"Noun: {noun}; Verb: {verb}; Output: {out}\")\n",
    "                return 100*noun + verb\n",
    "            \n",
    "    return -1\n",
    "\n",
    "answer_b = inv_intcode(data)\n",
    "answer_b"
   ]
  },
  {
   "cell_type": "code",
   "execution_count": 10,
   "metadata": {},
   "outputs": [
    {
     "name": "stdout",
     "output_type": "stream",
     "text": [
      "\u001b[32mThat's the right answer!  You are one gold star closer to rescuing Santa.You have completed Day 2! You can [Shareon\n",
      "  Twitter\n",
      "Mastodon] this victory or [Return to Your Advent Calendar].\u001b[0m\n"
     ]
    }
   ],
   "source": [
    "puzzle.answer_b = answer_b"
   ]
  },
  {
   "cell_type": "code",
   "execution_count": 8,
   "metadata": {},
   "outputs": [
    {
     "data": {
      "text/html": [
       "<table style='border: 3px solid #ddd;'>\n",
       "  <tr>\n",
       "     <td style='text-align: center; font-weight: bold; font-size: 1.2em; border: 2px solid #fff;' colspan='6'>Sun Dec 22 12:49:01 2019 CET</td>\n",
       "  </tr>\n",
       "  <tr>\n",
       "    <td style='text-align: right; background-color: #ccc; border: 2px solid #fff;'>Linux</td>\n",
       "    <td style='text-align: left; border: 2px solid #fff;'>OS</td>\n",
       "    <td style='text-align: right; background-color: #ccc; border: 2px solid #fff;'>4</td>\n",
       "    <td style='text-align: left; border: 2px solid #fff;'>CPU(s)</td>\n",
       "    <td style='text-align: right; background-color: #ccc; border: 2px solid #fff;'>x86_64</td>\n",
       "    <td style='text-align: left; border: 2px solid #fff;'>Machine</td>\n",
       "  </tr>\n",
       "  <tr>\n",
       "    <td style='text-align: right; background-color: #ccc; border: 2px solid #fff;'>64bit</td>\n",
       "    <td style='text-align: left; border: 2px solid #fff;'>Architecture</td>\n",
       "    <td style='text-align: right; background-color: #ccc; border: 2px solid #fff;'>7.7 GB</td>\n",
       "    <td style='text-align: left; border: 2px solid #fff;'>RAM</td>\n",
       "    <td style='text-align: right; background-color: #ccc; border: 2px solid #fff;'>Jupyter</td>\n",
       "    <td style='text-align: left; border: 2px solid #fff;'>Environment</td>\n",
       "  </tr>\n",
       "  <tr>\n",
       "     <td style='text-align: center; border: 2px solid #fff;' colspan='6'>Python 3.7.5 (default, Oct 25 2019, 15:51:11) \n",
       "[GCC 7.3.0]</td>\n",
       "  </tr>\n",
       "  <tr>\n",
       "    <td style='text-align: right; background-color: #ccc; border: 2px solid #fff;'>0.8.5</td>\n",
       "    <td style='text-align: left; border: 2px solid #fff;'>aocd</td>\n",
       "    <td style='text-align: right; background-color: #ccc; border: 2px solid #fff;'>1.17.4</td>\n",
       "    <td style='text-align: left; border: 2px solid #fff;'>numpy</td>\n",
       "    <td style='text-align: right; background-color: #ccc; border: 2px solid #fff;'>1.3.2</td>\n",
       "    <td style='text-align: left; border: 2px solid #fff;'>scipy</td>\n",
       "  </tr>\n",
       "  <tr>\n",
       "    <td style='text-align: right; background-color: #ccc; border: 2px solid #fff;'>7.10.2</td>\n",
       "    <td style='text-align: left; border: 2px solid #fff;'>IPython</td>\n",
       "    <td style='text-align: right; background-color: #ccc; border: 2px solid #fff;'>3.1.1</td>\n",
       "    <td style='text-align: left; border: 2px solid #fff;'>matplotlib</td>\n",
       "    <td style='text-align: right; background-color: #ccc; border: 2px solid #fff;'>0.4.3</td>\n",
       "    <td style='text-align: left; border: 2px solid #fff;'>scooby</td>\n",
       "  </tr>\n",
       "  <tr>\n",
       "     <td style='text-align: center; background-color: #ddd;border: 2px solid #fff;' colspan='6'>Intel(R) Math Kernel Library Version 2019.0.5 Product Build 20190808 for Intel(R) 64 architecture applications</td>\n",
       "  </tr>\n",
       "</table>"
      ],
      "text/plain": [
       "\n",
       "--------------------------------------------------------------------------------\n",
       "  Date: Sun Dec 22 12:49:01 2019 CET\n",
       "\n",
       "             Linux : OS\n",
       "                 4 : CPU(s)\n",
       "            x86_64 : Machine\n",
       "             64bit : Architecture\n",
       "            7.7 GB : RAM\n",
       "           Jupyter : Environment\n",
       "\n",
       "  Python 3.7.5 (default, Oct 25 2019, 15:51:11)  [GCC 7.3.0]\n",
       "\n",
       "             0.8.5 : aocd\n",
       "            1.17.4 : numpy\n",
       "             1.3.2 : scipy\n",
       "            7.10.2 : IPython\n",
       "             3.1.1 : matplotlib\n",
       "             0.4.3 : scooby\n",
       "\n",
       "  Intel(R) Math Kernel Library Version 2019.0.5 Product Build 20190808 for\n",
       "  Intel(R) 64 architecture applications\n",
       "--------------------------------------------------------------------------------"
      ]
     },
     "execution_count": 8,
     "metadata": {},
     "output_type": "execute_result"
    }
   ],
   "source": [
    "import scooby\n",
    "scooby.Report('aocd')"
   ]
  }
 ],
 "metadata": {
  "kernelspec": {
   "display_name": "Python 3",
   "language": "python",
   "name": "python3"
  },
  "language_info": {
   "codemirror_mode": {
    "name": "ipython",
    "version": 3
   },
   "file_extension": ".py",
   "mimetype": "text/x-python",
   "name": "python",
   "nbconvert_exporter": "python",
   "pygments_lexer": "ipython3",
   "version": "3.7.5"
  }
 },
 "nbformat": 4,
 "nbformat_minor": 2
}
