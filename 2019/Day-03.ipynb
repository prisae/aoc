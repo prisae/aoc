{
 "cells": [
  {
   "cell_type": "markdown",
   "metadata": {},
   "source": [
    "# Day 03"
   ]
  },
  {
   "cell_type": "code",
   "execution_count": 1,
   "metadata": {},
   "outputs": [],
   "source": [
    "import numpy as np\n",
    "from aocd.models import Puzzle"
   ]
  },
  {
   "cell_type": "markdown",
   "metadata": {},
   "source": [
    "## Data"
   ]
  },
  {
   "cell_type": "code",
   "execution_count": 2,
   "metadata": {},
   "outputs": [],
   "source": [
    "puzzle = Puzzle(year=2019, day=3)\n",
    "inst_a, inst_b = puzzle.input_data.split()\n",
    "inst = [inst_a.split(','), inst_b.split(',')]"
   ]
  },
  {
   "cell_type": "markdown",
   "metadata": {},
   "source": [
    "## Solution function"
   ]
  },
  {
   "cell_type": "code",
   "execution_count": 3,
   "metadata": {},
   "outputs": [],
   "source": [
    "def instructions2matrix(inp):\n",
    "    \"\"\"Return the instructions as complex arrays.\n",
    "    \n",
    "    Parameters\n",
    "    ----------\n",
    "    inp : list\n",
    "        Instructions for one wire.\n",
    "        \n",
    "    Returns\n",
    "    -------\n",
    "    g : complex array\n",
    "        Real part is x-movement, imaginary part is y-movement.\n",
    "        The step-size of the array is 1. Hence each point has\n",
    "        its own entry.\n",
    "        E.g., ['R3', 'U2'] => [0+0j, 1+0j, 2+0j, 3+0j, 3+1j, 3+2j]\n",
    "    \n",
    "    \"\"\"\n",
    "        \n",
    "    # Initialize growing x and y\n",
    "    gx = np.array([0.])\n",
    "    gy = np.array([0.])\n",
    "    \n",
    "    # Loop over instructions\n",
    "    for i, step in enumerate(inp):\n",
    "        \n",
    "        steps = int(step[1:])    # Number of steps\n",
    "        s_dir = step[0]          # Step direction\n",
    "        \n",
    "        # 0: left/right; 1: up/down\n",
    "        d = 0 if s_dir in ['R', 'L'] else 1\n",
    "        \n",
    "        # +1: right/up; -1: left/down\n",
    "        pm = 1 if s_dir in ['R', 'U'] else -1\n",
    "        \n",
    "        # Add this step        \n",
    "        gx = np.r_[gx, gx[-1] + pm*abs(d-1)*np.arange(1, 1+steps)]\n",
    "        gy = np.r_[gy, gy[-1] + pm*d*np.arange(1, 1+steps)]\n",
    "                \n",
    "    return gx[1:]+1j*gy[1:]\n",
    "\n",
    "\n",
    "def closest_wire(inp):\n",
    "    \"\"\"Solution part one: Closest intersection in Manhatten distance.\n",
    "    \n",
    "    Parameters\n",
    "    ----------\n",
    "    inp : list of lists\n",
    "        Puzzle input\n",
    "        \n",
    "    Returns\n",
    "    -------\n",
    "    out : int\n",
    "        Solution\n",
    "    \n",
    "    \"\"\"\n",
    "    # Get the two wires as complex arrays of step-length 1\n",
    "    one = instructions2matrix(inp[0])\n",
    "    two = instructions2matrix(inp[1])\n",
    "    \n",
    "    # Find all places where they overlap\n",
    "    idx = np.in1d(one, two)\n",
    "    \n",
    "    # import matplotlib.pyplot as plt\n",
    "    # plt.figure()\n",
    "    # plt.plot(one.real, one.imag)\n",
    "    # plt.plot(two.real, two.imag)\n",
    "    # plt.plot(one[idx].real, one[idx].imag, 'o')\n",
    "    # plt.show()\n",
    "    \n",
    "    # Return shortest of the overlaps\n",
    "    return int(np.min(abs(one[idx].real) + abs(one[idx].imag)))\n",
    "\n",
    "def fastest_wire(inp):\n",
    "    \"\"\"Solution part two: Fastest reached intersection.\n",
    "    \n",
    "    Parameters\n",
    "    ----------\n",
    "    inp : list of lists\n",
    "        Puzzle input\n",
    "        \n",
    "    Returns\n",
    "    -------\n",
    "    out : int\n",
    "        Solution\n",
    "    \n",
    "    \"\"\"\n",
    "    # Get the two wires as complex arrays of step-length 1\n",
    "    one = instructions2matrix(inp[0])\n",
    "    two = instructions2matrix(inp[1])\n",
    "    \n",
    "    # Find all places where they overlap\n",
    "    idx1 = np.isin(one, two)\n",
    "    \n",
    "    # Get the distance to each intersection of the first wire\n",
    "    onediff = np.cumsum(np.abs(np.diff(np.r_[0, one].real)))[idx1]\n",
    "    onediff += np.cumsum(np.abs(np.diff(np.r_[0, one].imag)))[idx1]\n",
    "    \n",
    "    # Get the distance to each point (not just intersection) in the second wire\n",
    "    twodiff = np.cumsum(np.abs(np.diff(np.r_[0, two].real)))\n",
    "    twodiff += np.cumsum(np.abs(np.diff(np.r_[0, two].imag)))\n",
    "    \n",
    "    # Initialize result\n",
    "    res = np.inf\n",
    "    \n",
    "    # Loop over intersections\n",
    "    for i, val in enumerate(one[idx1]):\n",
    "        \n",
    "        # Find the index of this intersection in wire 2\n",
    "        ix = np.where(two == val)\n",
    "        \n",
    "        # Calculate the distance for this intersection\n",
    "        dist = onediff[i] + twodiff[ix]\n",
    "        \n",
    "        # Overwrite result if it is closer\n",
    "        if dist < res:\n",
    "            res = int(dist)\n",
    "    \n",
    "    return res"
   ]
  },
  {
   "cell_type": "markdown",
   "metadata": {},
   "source": [
    "## Tests"
   ]
  },
  {
   "cell_type": "code",
   "execution_count": 4,
   "metadata": {},
   "outputs": [
    {
     "name": "stdout",
     "output_type": "stream",
     "text": [
      "1 :: True\n",
      "2 :: True\n",
      "3 :: True\n"
     ]
    }
   ],
   "source": [
    "testdata = {\n",
    "    '1': [['R8', 'U5', 'L5', 'D3'], ['U7', 'R6', 'D4', 'L4']],\n",
    "    '2': [['R75', 'D30', 'R83', 'U83', 'L12', 'D49', 'R71', 'U7', 'L72'],\n",
    "          ['U62', 'R66', 'U55', 'R34', 'D71', 'R55', 'D58', 'R83']],\n",
    "    '3': [['R98', 'U47', 'R26', 'D63', 'R33', 'U87', 'L62', 'D20', 'R33', 'U53', 'R51'],\n",
    "          ['U98', 'R91', 'D20', 'R16', 'D67', 'R40', 'U7', 'R15', 'U6', 'R7']],\n",
    "}\n",
    "\n",
    "testsolution = {\n",
    "    '1': 6,\n",
    "    '2': 159,\n",
    "    '3': 135,\n",
    "}\n",
    "\n",
    "for key, value in testdata.items():\n",
    "    print(f\"{key} :: {np.allclose(testsolution[key], closest_wire(value))}\")"
   ]
  },
  {
   "cell_type": "markdown",
   "metadata": {},
   "source": [
    "## Part One"
   ]
  },
  {
   "cell_type": "code",
   "execution_count": 5,
   "metadata": {},
   "outputs": [
    {
     "data": {
      "text/plain": [
       "3229"
      ]
     },
     "execution_count": 5,
     "metadata": {},
     "output_type": "execute_result"
    }
   ],
   "source": [
    "answer_a = closest_wire(inst)\n",
    "answer_a"
   ]
  },
  {
   "cell_type": "code",
   "execution_count": 6,
   "metadata": {},
   "outputs": [
    {
     "name": "stdout",
     "output_type": "stream",
     "text": [
      "\u001b[32mThat's the right answer!  You are one gold star closer to rescuing Santa. [Continue to Part Two]\u001b[0m\n"
     ]
    }
   ],
   "source": [
    "puzzle.answer_a = answer_a"
   ]
  },
  {
   "cell_type": "markdown",
   "metadata": {},
   "source": [
    "## Part Two"
   ]
  },
  {
   "cell_type": "code",
   "execution_count": 7,
   "metadata": {
    "scrolled": false
   },
   "outputs": [
    {
     "name": "stdout",
     "output_type": "stream",
     "text": [
      "1 :: True\n",
      "2 :: True\n",
      "3 :: True\n"
     ]
    }
   ],
   "source": [
    "testsolution = {\n",
    "    '1': 30,\n",
    "    '2': 610,\n",
    "    '3': 410,\n",
    "}\n",
    "\n",
    "for key, value in testdata.items():\n",
    "    print(f\"{key} :: {np.allclose(testsolution[key], fastest_wire(value))}\")"
   ]
  },
  {
   "cell_type": "code",
   "execution_count": 8,
   "metadata": {},
   "outputs": [
    {
     "data": {
      "text/plain": [
       "32132"
      ]
     },
     "execution_count": 8,
     "metadata": {},
     "output_type": "execute_result"
    }
   ],
   "source": [
    "answer_b = fastest_wire(inst)\n",
    "answer_b"
   ]
  },
  {
   "cell_type": "code",
   "execution_count": 9,
   "metadata": {},
   "outputs": [
    {
     "name": "stdout",
     "output_type": "stream",
     "text": [
      "\u001b[32mThat's the right answer!  You are one gold star closer to rescuing Santa.You have completed Day 3! You can [Shareon\n",
      "  Twitter\n",
      "Mastodon] this victory or [Return to Your Advent Calendar].\u001b[0m\n"
     ]
    }
   ],
   "source": [
    "puzzle.answer_b = answer_b"
   ]
  },
  {
   "cell_type": "code",
   "execution_count": 10,
   "metadata": {},
   "outputs": [
    {
     "data": {
      "text/html": [
       "<table style='border: 3px solid #ddd;'>\n",
       "  <tr>\n",
       "     <td style='text-align: center; font-weight: bold; font-size: 1.2em; border: 2px solid #fff;' colspan='6'>Sun Dec 22 16:17:54 2019 CET</td>\n",
       "  </tr>\n",
       "  <tr>\n",
       "    <td style='text-align: right; background-color: #ccc; border: 2px solid #fff;'>Linux</td>\n",
       "    <td style='text-align: left; border: 2px solid #fff;'>OS</td>\n",
       "    <td style='text-align: right; background-color: #ccc; border: 2px solid #fff;'>4</td>\n",
       "    <td style='text-align: left; border: 2px solid #fff;'>CPU(s)</td>\n",
       "    <td style='text-align: right; background-color: #ccc; border: 2px solid #fff;'>x86_64</td>\n",
       "    <td style='text-align: left; border: 2px solid #fff;'>Machine</td>\n",
       "  </tr>\n",
       "  <tr>\n",
       "    <td style='text-align: right; background-color: #ccc; border: 2px solid #fff;'>64bit</td>\n",
       "    <td style='text-align: left; border: 2px solid #fff;'>Architecture</td>\n",
       "    <td style='text-align: right; background-color: #ccc; border: 2px solid #fff;'>7.7 GB</td>\n",
       "    <td style='text-align: left; border: 2px solid #fff;'>RAM</td>\n",
       "    <td style='text-align: right; background-color: #ccc; border: 2px solid #fff;'>Jupyter</td>\n",
       "    <td style='text-align: left; border: 2px solid #fff;'>Environment</td>\n",
       "  </tr>\n",
       "  <tr>\n",
       "     <td style='text-align: center; border: 2px solid #fff;' colspan='6'>Python 3.7.5 (default, Oct 25 2019, 15:51:11) \n",
       "[GCC 7.3.0]</td>\n",
       "  </tr>\n",
       "  <tr>\n",
       "    <td style='text-align: right; background-color: #ccc; border: 2px solid #fff;'>0.8.5</td>\n",
       "    <td style='text-align: left; border: 2px solid #fff;'>aocd</td>\n",
       "    <td style='text-align: right; background-color: #ccc; border: 2px solid #fff;'>1.17.4</td>\n",
       "    <td style='text-align: left; border: 2px solid #fff;'>numpy</td>\n",
       "    <td style='text-align: right; background-color: #ccc; border: 2px solid #fff;'>1.3.2</td>\n",
       "    <td style='text-align: left; border: 2px solid #fff;'>scipy</td>\n",
       "  </tr>\n",
       "  <tr>\n",
       "    <td style='text-align: right; background-color: #ccc; border: 2px solid #fff;'>7.10.2</td>\n",
       "    <td style='text-align: left; border: 2px solid #fff;'>IPython</td>\n",
       "    <td style='text-align: right; background-color: #ccc; border: 2px solid #fff;'>3.1.1</td>\n",
       "    <td style='text-align: left; border: 2px solid #fff;'>matplotlib</td>\n",
       "    <td style='text-align: right; background-color: #ccc; border: 2px solid #fff;'>0.4.3</td>\n",
       "    <td style='text-align: left; border: 2px solid #fff;'>scooby</td>\n",
       "  </tr>\n",
       "  <tr>\n",
       "     <td style='text-align: center; background-color: #ddd;border: 2px solid #fff;' colspan='6'>Intel(R) Math Kernel Library Version 2019.0.5 Product Build 20190808 for Intel(R) 64 architecture applications</td>\n",
       "  </tr>\n",
       "</table>"
      ],
      "text/plain": [
       "\n",
       "--------------------------------------------------------------------------------\n",
       "  Date: Sun Dec 22 16:17:54 2019 CET\n",
       "\n",
       "             Linux : OS\n",
       "                 4 : CPU(s)\n",
       "            x86_64 : Machine\n",
       "             64bit : Architecture\n",
       "            7.7 GB : RAM\n",
       "           Jupyter : Environment\n",
       "\n",
       "  Python 3.7.5 (default, Oct 25 2019, 15:51:11)  [GCC 7.3.0]\n",
       "\n",
       "             0.8.5 : aocd\n",
       "            1.17.4 : numpy\n",
       "             1.3.2 : scipy\n",
       "            7.10.2 : IPython\n",
       "             3.1.1 : matplotlib\n",
       "             0.4.3 : scooby\n",
       "\n",
       "  Intel(R) Math Kernel Library Version 2019.0.5 Product Build 20190808 for\n",
       "  Intel(R) 64 architecture applications\n",
       "--------------------------------------------------------------------------------"
      ]
     },
     "execution_count": 10,
     "metadata": {},
     "output_type": "execute_result"
    }
   ],
   "source": [
    "import scooby\n",
    "scooby.Report('aocd')"
   ]
  }
 ],
 "metadata": {
  "kernelspec": {
   "display_name": "Python 3",
   "language": "python",
   "name": "python3"
  },
  "language_info": {
   "codemirror_mode": {
    "name": "ipython",
    "version": 3
   },
   "file_extension": ".py",
   "mimetype": "text/x-python",
   "name": "python",
   "nbconvert_exporter": "python",
   "pygments_lexer": "ipython3",
   "version": "3.7.5"
  }
 },
 "nbformat": 4,
 "nbformat_minor": 2
}
