{
 "cells": [
  {
   "cell_type": "markdown",
   "metadata": {},
   "source": [
    "# Day 05"
   ]
  },
  {
   "cell_type": "code",
   "execution_count": 1,
   "metadata": {},
   "outputs": [],
   "source": [
    "import numpy as np\n",
    "from aocd.models import Puzzle"
   ]
  },
  {
   "cell_type": "markdown",
   "metadata": {},
   "source": [
    "## Data"
   ]
  },
  {
   "cell_type": "code",
   "execution_count": 2,
   "metadata": {},
   "outputs": [],
   "source": [
    "puzzle = Puzzle(year=2019, day=5)\n",
    "\n",
    "data = np.array(puzzle.input_data.split(','), dtype=int)"
   ]
  },
  {
   "cell_type": "markdown",
   "metadata": {},
   "source": [
    "## Solution function"
   ]
  },
  {
   "cell_type": "code",
   "execution_count": 3,
   "metadata": {},
   "outputs": [],
   "source": [
    "def intcode(inp, i=0, opt=None):\n",
    "    \"\"\"\n",
    "    Parameters\n",
    "    ----------\n",
    "    inp : ndarray of int\n",
    "        Instructions\n",
    "        \n",
    "    i : int\n",
    "        Current pointer, used in recursion\n",
    "        \n",
    "    opt : int\n",
    "        Output, used in recursion\n",
    "        \n",
    "    Returns\n",
    "    -------\n",
    "    inp or opt : ndarray of int or int\n",
    "        Modified input instructions or output, if last\n",
    "        opcode was a 4.\n",
    "    \n",
    "    \"\"\"\n",
    "\n",
    "    # Get opcode (last two digits of initial 2-5 digit number)\n",
    "    rem, opcode = np.divmod(inp[i], 100)\n",
    " \n",
    "    # Get parameter mode: position or immediate mode\n",
    "    rem, pos1 = np.divmod(rem, 10)  # for parameter 1\n",
    "    rem, pos2 = np.divmod(rem, 10)  # for parameter 2\n",
    "    pos3 = np.divmod(rem, 10)[1]    # for parameter 3\n",
    "    \n",
    "    # Exits (finished or failed)\n",
    "    if opcode == 99:                # Finished\n",
    "        if opt:\n",
    "            return opt\n",
    "        else:\n",
    "            return inp\n",
    "    elif opcode > 8 or opcode < 1:  # Error\n",
    "        raise ValueError(f\"Error in intcode; opcode: {opcode}\")\n",
    "    \n",
    "    # (1) Opcodes with one parameter (3, 4)\n",
    "\n",
    "    # Index depending on parameter mode\n",
    "    pos1 = [inp[i+1], i+1][pos1]\n",
    "        \n",
    "    if opcode == 3:                   # OpCode 3: Take an Input\n",
    "        out = \"\"+input(\"Input  : \");\n",
    "        inp[pos1] = int(out)\n",
    "        return intcode(inp, i+2)\n",
    "    elif opcode == 4:                 # OpCode 4: Print an Output\n",
    "        print(f\"Output : {inp[pos1]}\")\n",
    "        return intcode(inp, i+2, inp[pos1])\n",
    "    \n",
    "    # (2) Opcodes with two parameters (5, 6)\n",
    "\n",
    "    # Index depending on parameter mode\n",
    "    pos2 = [inp[i+2], i+2][pos2]\n",
    "    \n",
    "    if opcode in [5, 6]:              # OpCode 5/6: Jump if True/False\n",
    "        op = [np.not_equal, np.equal][opcode-5]\n",
    "        if op(inp[pos1], 0):\n",
    "            return intcode(inp, inp[pos2])\n",
    "        else:\n",
    "            return intcode(inp, i+3)\n",
    "    \n",
    "    # (3) Opcodes with three parameters (1, 2, 7, 8)\n",
    "\n",
    "    # Index depending on parameter mode\n",
    "    pos3 = [inp[i+3], i+3][pos3]\n",
    "    \n",
    "    if opcode in [1, 2]:              # OpCode 1/2: Add/Multiply\n",
    "        op = [np.add, np.multiply][opcode-1]\n",
    "        inp[pos3] = op(inp[pos1], inp[pos2])\n",
    "        return intcode(inp, i+4)\n",
    "    elif opcode in [7, 8]:            # OpCode 7/8: Less/Equal\n",
    "        op = [np.less, np.equal][opcode-7]\n",
    "        if op(inp[pos1], inp[pos2]):\n",
    "            inp[pos3] = 1\n",
    "        else:\n",
    "            inp[pos3] = 0\n",
    "        return intcode(inp, i+4)"
   ]
  },
  {
   "cell_type": "markdown",
   "metadata": {},
   "source": [
    "## Part One"
   ]
  },
  {
   "cell_type": "code",
   "execution_count": 4,
   "metadata": {},
   "outputs": [
    {
     "name": "stdout",
     "output_type": "stream",
     "text": [
      "Input  : 1\n",
      "Output : 0\n",
      "Output : 0\n",
      "Output : 0\n",
      "Output : 0\n",
      "Output : 0\n",
      "Output : 0\n",
      "Output : 0\n",
      "Output : 0\n",
      "Output : 0\n",
      "Output : 12440243\n"
     ]
    },
    {
     "data": {
      "text/plain": [
       "12440243"
      ]
     },
     "execution_count": 4,
     "metadata": {},
     "output_type": "execute_result"
    }
   ],
   "source": [
    "answer_a = intcode(data.copy())\n",
    "answer_a"
   ]
  },
  {
   "cell_type": "code",
   "execution_count": 5,
   "metadata": {},
   "outputs": [
    {
     "name": "stdout",
     "output_type": "stream",
     "text": [
      "\u001b[32mThat's the right answer!  You are one gold star closer to rescuing Santa. [Continue to Part Two]\u001b[0m\n"
     ]
    }
   ],
   "source": [
    "puzzle.answer_a = answer_a"
   ]
  },
  {
   "cell_type": "markdown",
   "metadata": {},
   "source": [
    "## Part Two"
   ]
  },
  {
   "cell_type": "code",
   "execution_count": 6,
   "metadata": {},
   "outputs": [
    {
     "name": "stdout",
     "output_type": "stream",
     "text": [
      "Input  : 5\n",
      "Output : 15486302\n"
     ]
    },
    {
     "data": {
      "text/plain": [
       "15486302"
      ]
     },
     "execution_count": 6,
     "metadata": {},
     "output_type": "execute_result"
    }
   ],
   "source": [
    "answer_b = intcode(data.copy())\n",
    "answer_b"
   ]
  },
  {
   "cell_type": "code",
   "execution_count": 7,
   "metadata": {},
   "outputs": [
    {
     "name": "stdout",
     "output_type": "stream",
     "text": [
      "\u001b[32mThat's the right answer!  You are one gold star closer to rescuing Santa.You have completed Day 5! You can [Shareon\n",
      "  Twitter\n",
      "Mastodon] this victory or [Return to Your Advent Calendar].\u001b[0m\n"
     ]
    }
   ],
   "source": [
    "puzzle.answer_b = answer_b"
   ]
  },
  {
   "cell_type": "code",
   "execution_count": 8,
   "metadata": {},
   "outputs": [
    {
     "data": {
      "text/html": [
       "<table style='border: 3px solid #ddd;'>\n",
       "  <tr>\n",
       "     <td style='text-align: center; font-weight: bold; font-size: 1.2em; border: 2px solid #fff;' colspan='6'>Sun Dec 22 20:37:13 2019 CET</td>\n",
       "  </tr>\n",
       "  <tr>\n",
       "    <td style='text-align: right; background-color: #ccc; border: 2px solid #fff;'>Linux</td>\n",
       "    <td style='text-align: left; border: 2px solid #fff;'>OS</td>\n",
       "    <td style='text-align: right; background-color: #ccc; border: 2px solid #fff;'>4</td>\n",
       "    <td style='text-align: left; border: 2px solid #fff;'>CPU(s)</td>\n",
       "    <td style='text-align: right; background-color: #ccc; border: 2px solid #fff;'>x86_64</td>\n",
       "    <td style='text-align: left; border: 2px solid #fff;'>Machine</td>\n",
       "  </tr>\n",
       "  <tr>\n",
       "    <td style='text-align: right; background-color: #ccc; border: 2px solid #fff;'>64bit</td>\n",
       "    <td style='text-align: left; border: 2px solid #fff;'>Architecture</td>\n",
       "    <td style='text-align: right; background-color: #ccc; border: 2px solid #fff;'>7.7 GB</td>\n",
       "    <td style='text-align: left; border: 2px solid #fff;'>RAM</td>\n",
       "    <td style='text-align: right; background-color: #ccc; border: 2px solid #fff;'>Jupyter</td>\n",
       "    <td style='text-align: left; border: 2px solid #fff;'>Environment</td>\n",
       "  </tr>\n",
       "  <tr>\n",
       "     <td style='text-align: center; border: 2px solid #fff;' colspan='6'>Python 3.7.5 (default, Oct 25 2019, 15:51:11) \n",
       "[GCC 7.3.0]</td>\n",
       "  </tr>\n",
       "  <tr>\n",
       "    <td style='text-align: right; background-color: #ccc; border: 2px solid #fff;'>0.8.5</td>\n",
       "    <td style='text-align: left; border: 2px solid #fff;'>aocd</td>\n",
       "    <td style='text-align: right; background-color: #ccc; border: 2px solid #fff;'>1.17.4</td>\n",
       "    <td style='text-align: left; border: 2px solid #fff;'>numpy</td>\n",
       "    <td style='text-align: right; background-color: #ccc; border: 2px solid #fff;'>1.3.2</td>\n",
       "    <td style='text-align: left; border: 2px solid #fff;'>scipy</td>\n",
       "  </tr>\n",
       "  <tr>\n",
       "    <td style='text-align: right; background-color: #ccc; border: 2px solid #fff;'>7.10.2</td>\n",
       "    <td style='text-align: left; border: 2px solid #fff;'>IPython</td>\n",
       "    <td style='text-align: right; background-color: #ccc; border: 2px solid #fff;'>3.1.1</td>\n",
       "    <td style='text-align: left; border: 2px solid #fff;'>matplotlib</td>\n",
       "    <td style='text-align: right; background-color: #ccc; border: 2px solid #fff;'>0.4.3</td>\n",
       "    <td style='text-align: left; border: 2px solid #fff;'>scooby</td>\n",
       "  </tr>\n",
       "  <tr>\n",
       "     <td style='text-align: center; background-color: #ddd;border: 2px solid #fff;' colspan='6'>Intel(R) Math Kernel Library Version 2019.0.5 Product Build 20190808 for Intel(R) 64 architecture applications</td>\n",
       "  </tr>\n",
       "</table>"
      ],
      "text/plain": [
       "\n",
       "--------------------------------------------------------------------------------\n",
       "  Date: Sun Dec 22 20:37:13 2019 CET\n",
       "\n",
       "             Linux : OS\n",
       "                 4 : CPU(s)\n",
       "            x86_64 : Machine\n",
       "             64bit : Architecture\n",
       "            7.7 GB : RAM\n",
       "           Jupyter : Environment\n",
       "\n",
       "  Python 3.7.5 (default, Oct 25 2019, 15:51:11)  [GCC 7.3.0]\n",
       "\n",
       "             0.8.5 : aocd\n",
       "            1.17.4 : numpy\n",
       "             1.3.2 : scipy\n",
       "            7.10.2 : IPython\n",
       "             3.1.1 : matplotlib\n",
       "             0.4.3 : scooby\n",
       "\n",
       "  Intel(R) Math Kernel Library Version 2019.0.5 Product Build 20190808 for\n",
       "  Intel(R) 64 architecture applications\n",
       "--------------------------------------------------------------------------------"
      ]
     },
     "execution_count": 8,
     "metadata": {},
     "output_type": "execute_result"
    }
   ],
   "source": [
    "import scooby\n",
    "scooby.Report('aocd')"
   ]
  }
 ],
 "metadata": {
  "kernelspec": {
   "display_name": "Python 3",
   "language": "python",
   "name": "python3"
  },
  "language_info": {
   "codemirror_mode": {
    "name": "ipython",
    "version": 3
   },
   "file_extension": ".py",
   "mimetype": "text/x-python",
   "name": "python",
   "nbconvert_exporter": "python",
   "pygments_lexer": "ipython3",
   "version": "3.7.5"
  }
 },
 "nbformat": 4,
 "nbformat_minor": 2
}
