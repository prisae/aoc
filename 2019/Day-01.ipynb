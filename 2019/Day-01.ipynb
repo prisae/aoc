{
 "cells": [
  {
   "cell_type": "markdown",
   "metadata": {},
   "source": [
    "# Day 01"
   ]
  },
  {
   "cell_type": "code",
   "execution_count": 1,
   "metadata": {},
   "outputs": [],
   "source": [
    "import numpy as np\n",
    "from aocd.models import Puzzle"
   ]
  },
  {
   "cell_type": "markdown",
   "metadata": {},
   "source": [
    "## Data"
   ]
  },
  {
   "cell_type": "code",
   "execution_count": 2,
   "metadata": {},
   "outputs": [],
   "source": [
    "puzzle = Puzzle(year=2019, day=1)\n",
    "data = np.array(puzzle.input_data.split(), dtype=int)"
   ]
  },
  {
   "cell_type": "markdown",
   "metadata": {},
   "source": [
    "## Solution function"
   ]
  },
  {
   "cell_type": "code",
   "execution_count": 3,
   "metadata": {},
   "outputs": [],
   "source": [
    "def get_fuel(inp, fuel=None, recursive=True):\n",
    "    \"\"\"Calculate required fuel recursively.\"\"\"\n",
    "    \n",
    "    if fuel is None:\n",
    "        fuel = np.zeros_like(data)\n",
    "  \n",
    "    # Fuel: Take its mass, divide by three,\n",
    "    #       round down and subtract 2.\n",
    "    mass = np.maximum(inp//3-2, 0)\n",
    "    fuel += mass\n",
    "    \n",
    "    if recursive and any(inp > 0):\n",
    "        get_fuel(mass, fuel)\n",
    "        \n",
    "    return np.sum(fuel)"
   ]
  },
  {
   "cell_type": "markdown",
   "metadata": {},
   "source": [
    "## Part One"
   ]
  },
  {
   "cell_type": "code",
   "execution_count": 4,
   "metadata": {},
   "outputs": [
    {
     "data": {
      "text/plain": [
       "3266516"
      ]
     },
     "execution_count": 4,
     "metadata": {},
     "output_type": "execute_result"
    }
   ],
   "source": [
    "answer_a = get_fuel(data, recursive=False)\n",
    "answer_a"
   ]
  },
  {
   "cell_type": "code",
   "execution_count": 5,
   "metadata": {},
   "outputs": [
    {
     "name": "stdout",
     "output_type": "stream",
     "text": [
      "\u001b[32mThat's the right answer!  You are one gold star closer to rescuing Santa. [Continue to Part Two]\u001b[0m\n"
     ]
    }
   ],
   "source": [
    "puzzle.answer_a = answer_a"
   ]
  },
  {
   "cell_type": "markdown",
   "metadata": {},
   "source": [
    "## Part Two"
   ]
  },
  {
   "cell_type": "code",
   "execution_count": 6,
   "metadata": {},
   "outputs": [
    {
     "data": {
      "text/plain": [
       "4896902"
      ]
     },
     "execution_count": 6,
     "metadata": {},
     "output_type": "execute_result"
    }
   ],
   "source": [
    "answer_b = get_fuel(data)\n",
    "answer_b"
   ]
  },
  {
   "cell_type": "code",
   "execution_count": 7,
   "metadata": {},
   "outputs": [
    {
     "name": "stdout",
     "output_type": "stream",
     "text": [
      "\u001b[32mThat's the right answer!  You are one gold star closer to rescuing Santa.You have completed Day 1! You can [Shareon\n",
      "  Twitter\n",
      "Mastodon] this victory or [Return to Your Advent Calendar].\u001b[0m\n"
     ]
    }
   ],
   "source": [
    "puzzle.answer_b = answer_b"
   ]
  },
  {
   "cell_type": "code",
   "execution_count": 8,
   "metadata": {},
   "outputs": [
    {
     "data": {
      "text/html": [
       "<table style='border: 3px solid #ddd;'>\n",
       "  <tr>\n",
       "     <td style='text-align: center; font-weight: bold; font-size: 1.2em; border: 2px solid #fff;' colspan='6'>Sun Dec 22 12:49:01 2019 CET</td>\n",
       "  </tr>\n",
       "  <tr>\n",
       "    <td style='text-align: right; background-color: #ccc; border: 2px solid #fff;'>Linux</td>\n",
       "    <td style='text-align: left; border: 2px solid #fff;'>OS</td>\n",
       "    <td style='text-align: right; background-color: #ccc; border: 2px solid #fff;'>4</td>\n",
       "    <td style='text-align: left; border: 2px solid #fff;'>CPU(s)</td>\n",
       "    <td style='text-align: right; background-color: #ccc; border: 2px solid #fff;'>x86_64</td>\n",
       "    <td style='text-align: left; border: 2px solid #fff;'>Machine</td>\n",
       "  </tr>\n",
       "  <tr>\n",
       "    <td style='text-align: right; background-color: #ccc; border: 2px solid #fff;'>64bit</td>\n",
       "    <td style='text-align: left; border: 2px solid #fff;'>Architecture</td>\n",
       "    <td style='text-align: right; background-color: #ccc; border: 2px solid #fff;'>7.7 GB</td>\n",
       "    <td style='text-align: left; border: 2px solid #fff;'>RAM</td>\n",
       "    <td style='text-align: right; background-color: #ccc; border: 2px solid #fff;'>Jupyter</td>\n",
       "    <td style='text-align: left; border: 2px solid #fff;'>Environment</td>\n",
       "  </tr>\n",
       "  <tr>\n",
       "     <td style='text-align: center; border: 2px solid #fff;' colspan='6'>Python 3.7.5 (default, Oct 25 2019, 15:51:11) \n",
       "[GCC 7.3.0]</td>\n",
       "  </tr>\n",
       "  <tr>\n",
       "    <td style='text-align: right; background-color: #ccc; border: 2px solid #fff;'>0.8.5</td>\n",
       "    <td style='text-align: left; border: 2px solid #fff;'>aocd</td>\n",
       "    <td style='text-align: right; background-color: #ccc; border: 2px solid #fff;'>1.17.4</td>\n",
       "    <td style='text-align: left; border: 2px solid #fff;'>numpy</td>\n",
       "    <td style='text-align: right; background-color: #ccc; border: 2px solid #fff;'>1.3.2</td>\n",
       "    <td style='text-align: left; border: 2px solid #fff;'>scipy</td>\n",
       "  </tr>\n",
       "  <tr>\n",
       "    <td style='text-align: right; background-color: #ccc; border: 2px solid #fff;'>7.10.2</td>\n",
       "    <td style='text-align: left; border: 2px solid #fff;'>IPython</td>\n",
       "    <td style='text-align: right; background-color: #ccc; border: 2px solid #fff;'>3.1.1</td>\n",
       "    <td style='text-align: left; border: 2px solid #fff;'>matplotlib</td>\n",
       "    <td style='text-align: right; background-color: #ccc; border: 2px solid #fff;'>0.4.3</td>\n",
       "    <td style='text-align: left; border: 2px solid #fff;'>scooby</td>\n",
       "  </tr>\n",
       "  <tr>\n",
       "     <td style='text-align: center; background-color: #ddd;border: 2px solid #fff;' colspan='6'>Intel(R) Math Kernel Library Version 2019.0.5 Product Build 20190808 for Intel(R) 64 architecture applications</td>\n",
       "  </tr>\n",
       "</table>"
      ],
      "text/plain": [
       "\n",
       "--------------------------------------------------------------------------------\n",
       "  Date: Sun Dec 22 12:49:01 2019 CET\n",
       "\n",
       "             Linux : OS\n",
       "                 4 : CPU(s)\n",
       "            x86_64 : Machine\n",
       "             64bit : Architecture\n",
       "            7.7 GB : RAM\n",
       "           Jupyter : Environment\n",
       "\n",
       "  Python 3.7.5 (default, Oct 25 2019, 15:51:11)  [GCC 7.3.0]\n",
       "\n",
       "             0.8.5 : aocd\n",
       "            1.17.4 : numpy\n",
       "             1.3.2 : scipy\n",
       "            7.10.2 : IPython\n",
       "             3.1.1 : matplotlib\n",
       "             0.4.3 : scooby\n",
       "\n",
       "  Intel(R) Math Kernel Library Version 2019.0.5 Product Build 20190808 for\n",
       "  Intel(R) 64 architecture applications\n",
       "--------------------------------------------------------------------------------"
      ]
     },
     "execution_count": 8,
     "metadata": {},
     "output_type": "execute_result"
    }
   ],
   "source": [
    "import scooby\n",
    "scooby.Report('aocd')"
   ]
  }
 ],
 "metadata": {
  "kernelspec": {
   "display_name": "Python 3",
   "language": "python",
   "name": "python3"
  },
  "language_info": {
   "codemirror_mode": {
    "name": "ipython",
    "version": 3
   },
   "file_extension": ".py",
   "mimetype": "text/x-python",
   "name": "python",
   "nbconvert_exporter": "python",
   "pygments_lexer": "ipython3",
   "version": "3.7.5"
  }
 },
 "nbformat": 4,
 "nbformat_minor": 2
}
