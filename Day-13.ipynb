{
 "cells": [
  {
   "cell_type": "markdown",
   "metadata": {},
   "source": [
    "# Day 13"
   ]
  },
  {
   "cell_type": "code",
   "execution_count": 1,
   "metadata": {},
   "outputs": [],
   "source": [
    "import numpy as np\n",
    "from aocd.models import Puzzle\n",
    "from scipy.sparse import lil_matrix"
   ]
  },
  {
   "cell_type": "markdown",
   "metadata": {},
   "source": [
    "## Data"
   ]
  },
  {
   "cell_type": "code",
   "execution_count": 2,
   "metadata": {},
   "outputs": [],
   "source": [
    "puzzle = Puzzle(year=2020, day=13)\n",
    "data = puzzle.input_data.split()"
   ]
  },
  {
   "cell_type": "markdown",
   "metadata": {},
   "source": [
    "## Part One"
   ]
  },
  {
   "cell_type": "code",
   "execution_count": 3,
   "metadata": {},
   "outputs": [
    {
     "data": {
      "text/plain": [
       "(1000303, array([ 41,  37, 541,  23,  13,  17,  29, 983,  19]))"
      ]
     },
     "execution_count": 3,
     "metadata": {},
     "output_type": "execute_result"
    }
   ],
   "source": [
    "my_time = int(data[0])\n",
    "buses = np.array(data[1].replace('x,', '').split(','), dtype=int)\n",
    "my_time, buses"
   ]
  },
  {
   "cell_type": "code",
   "execution_count": 4,
   "metadata": {},
   "outputs": [
    {
     "data": {
      "text/plain": [
       "3246"
      ]
     },
     "execution_count": 4,
     "metadata": {},
     "output_type": "execute_result"
    }
   ],
   "source": [
    "tt = min(buses-my_time%buses)\n",
    "busid = buses[np.argmin(buses - my_time%buses)]\n",
    "\n",
    "answer_a = busid*tt\n",
    "answer_a"
   ]
  },
  {
   "cell_type": "code",
   "execution_count": 5,
   "metadata": {},
   "outputs": [
    {
     "name": "stdout",
     "output_type": "stream",
     "text": [
      "\u001b[32mThat's the right answer!  You are one gold star closer to saving your vacation. [Continue to Part Two]\u001b[0m\n"
     ]
    }
   ],
   "source": [
    "puzzle.answer_a = answer_a"
   ]
  },
  {
   "cell_type": "markdown",
   "metadata": {},
   "source": [
    "## Part Two"
   ]
  },
  {
   "cell_type": "code",
   "execution_count": null,
   "metadata": {},
   "outputs": [],
   "source": [
    "#answer_b = n\n",
    "#answer_b"
   ]
  },
  {
   "cell_type": "code",
   "execution_count": null,
   "metadata": {},
   "outputs": [],
   "source": [
    "#puzzle.answer_b = answer_b"
   ]
  },
  {
   "cell_type": "code",
   "execution_count": 6,
   "metadata": {},
   "outputs": [
    {
     "data": {
      "text/html": [
       "<table style='border: 3px solid #ddd;'>\n",
       "  <tr>\n",
       "     <td style='text-align: center; font-weight: bold; font-size: 1.2em; border: 2px solid #fff;' colspan='6'>Wed Dec 16 23:14:55 2020 CET</td>\n",
       "  </tr>\n",
       "  <tr>\n",
       "    <td style='text-align: right; background-color: #ccc; border: 2px solid #fff;'>OS</td>\n",
       "    <td style='text-align: left; border: 2px solid #fff;'>Linux</td>\n",
       "    <td style='text-align: right; background-color: #ccc; border: 2px solid #fff;'>CPU(s)</td>\n",
       "    <td style='text-align: left; border: 2px solid #fff;'>4</td>\n",
       "    <td style='text-align: right; background-color: #ccc; border: 2px solid #fff;'>Machine</td>\n",
       "    <td style='text-align: left; border: 2px solid #fff;'>x86_64</td>\n",
       "  </tr>\n",
       "  <tr>\n",
       "    <td style='text-align: right; background-color: #ccc; border: 2px solid #fff;'>Architecture</td>\n",
       "    <td style='text-align: left; border: 2px solid #fff;'>64bit</td>\n",
       "    <td style='text-align: right; background-color: #ccc; border: 2px solid #fff;'>RAM</td>\n",
       "    <td style='text-align: left; border: 2px solid #fff;'>7.7 GB</td>\n",
       "    <td style='text-align: right; background-color: #ccc; border: 2px solid #fff;'>Environment</td>\n",
       "    <td style='text-align: left; border: 2px solid #fff;'>Jupyter</td>\n",
       "  </tr>\n",
       "  <tr>\n",
       "     <td style='text-align: center; border: 2px solid #fff;' colspan='6'>Python 3.7.6 | packaged by conda-forge | (default, Jun  1 2020, 18:57:50) \n",
       "[GCC 7.5.0]</td>\n",
       "  </tr>\n",
       "  <tr>\n",
       "    <td style='text-align: right; background-color: #ccc; border: 2px solid #fff;'>aocd</td>\n",
       "    <td style='text-align: left; border: 2px solid #fff;'>0.9.4</td>\n",
       "    <td style='text-align: right; background-color: #ccc; border: 2px solid #fff;'>numpy</td>\n",
       "    <td style='text-align: left; border: 2px solid #fff;'>1.19.1</td>\n",
       "    <td style='text-align: right; background-color: #ccc; border: 2px solid #fff;'>scipy</td>\n",
       "    <td style='text-align: left; border: 2px solid #fff;'>1.5.2</td>\n",
       "  </tr>\n",
       "  <tr>\n",
       "    <td style='text-align: right; background-color: #ccc; border: 2px solid #fff;'>IPython</td>\n",
       "    <td style='text-align: left; border: 2px solid #fff;'>7.16.1</td>\n",
       "    <td style='text-align: right; background-color: #ccc; border: 2px solid #fff;'>matplotlib</td>\n",
       "    <td style='text-align: left; border: 2px solid #fff;'>3.3.3</td>\n",
       "    <td style='text-align: right; background-color: #ccc; border: 2px solid #fff;'>scooby</td>\n",
       "    <td style='text-align: left; border: 2px solid #fff;'>0.5.6</td>\n",
       "  </tr>\n",
       "</table>"
      ],
      "text/plain": [
       "\n",
       "--------------------------------------------------------------------------------\n",
       "  Date: Wed Dec 16 23:14:55 2020 CET\n",
       "\n",
       "                OS : Linux\n",
       "            CPU(s) : 4\n",
       "           Machine : x86_64\n",
       "      Architecture : 64bit\n",
       "               RAM : 7.7 GB\n",
       "       Environment : Jupyter\n",
       "\n",
       "  Python 3.7.6 | packaged by conda-forge | (default, Jun  1 2020, 18:57:50)\n",
       "  [GCC 7.5.0]\n",
       "\n",
       "              aocd : 0.9.4\n",
       "             numpy : 1.19.1\n",
       "             scipy : 1.5.2\n",
       "           IPython : 7.16.1\n",
       "        matplotlib : 3.3.3\n",
       "            scooby : 0.5.6\n",
       "--------------------------------------------------------------------------------"
      ]
     },
     "execution_count": 6,
     "metadata": {},
     "output_type": "execute_result"
    }
   ],
   "source": [
    "import scooby\n",
    "scooby.Report('aocd')"
   ]
  }
 ],
 "metadata": {
  "kernelspec": {
   "display_name": "Python 3",
   "language": "python",
   "name": "python3"
  },
  "language_info": {
   "codemirror_mode": {
    "name": "ipython",
    "version": 3
   },
   "file_extension": ".py",
   "mimetype": "text/x-python",
   "name": "python",
   "nbconvert_exporter": "python",
   "pygments_lexer": "ipython3",
   "version": "3.7.6"
  }
 },
 "nbformat": 4,
 "nbformat_minor": 2
}
